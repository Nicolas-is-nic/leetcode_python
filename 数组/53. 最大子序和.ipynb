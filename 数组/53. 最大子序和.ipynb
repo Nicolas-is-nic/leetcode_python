{
 "cells": [
  {
   "cell_type": "markdown",
   "metadata": {},
   "source": [
    "给定一个整数数组 `nums` ，找到一个具有最大和的连续子数组（子数组最少包含一个元素），返回其最大和。\n",
    "\n",
    "示例:\n",
    "\n",
    "> 输入: [-2,1,-3,4,-1,2,1,-5,4],\n",
    "> \n",
    "> 输出: 6\n",
    ">\n",
    "> 解释: 连续子数组 [4,-1,2,1] 的和最大，为 6。\n",
    "\n",
    "进阶:\n",
    "\n",
    "> 如果你已经实现复杂度为 O(n) 的解法，尝试使用更为精妙的分治法求解。\n"
   ]
  },
  {
   "cell_type": "code",
   "execution_count": 48,
   "metadata": {},
   "outputs": [],
   "source": [
    "from typing import List\n",
    "\n",
    "class Solution:\n",
    "    def findDuplicate(self, nums: List[int]) -> int:\n",
    "        if len(nums) <= 1:\n",
    "            return sum(nums[:1])\n",
    "        dp = [nums[0]]\n",
    "        res = nums[0]\n",
    "        for i in range(1,len(nums)):\n",
    "            temp = max(nums[i], nums[i]+dp[i-1])\n",
    "            dp.append(temp)\n",
    "            res = max(res, temp)\n",
    "        return res\n",
    "        "
   ]
  },
  {
   "cell_type": "code",
   "execution_count": 49,
   "metadata": {},
   "outputs": [],
   "source": [
    "nums = [-2, 1, -3, 4, -1, 2, 1, -5, 4]"
   ]
  },
  {
   "cell_type": "code",
   "execution_count": 50,
   "metadata": {},
   "outputs": [
    {
     "data": {
      "text/plain": [
       "6"
      ]
     },
     "execution_count": 50,
     "metadata": {},
     "output_type": "execute_result"
    }
   ],
   "source": [
    "a = Solution()\n",
    "a.findDuplicate(nums)"
   ]
  },
  {
   "cell_type": "code",
   "execution_count": null,
   "metadata": {},
   "outputs": [],
   "source": []
  }
 ],
 "metadata": {
  "kernelspec": {
   "display_name": "py3_env",
   "language": "python",
   "name": "py3_env"
  },
  "language_info": {
   "codemirror_mode": {
    "name": "ipython",
    "version": 3
   },
   "file_extension": ".py",
   "mimetype": "text/x-python",
   "name": "python",
   "nbconvert_exporter": "python",
   "pygments_lexer": "ipython3",
   "version": "3.7.4"
  }
 },
 "nbformat": 4,
 "nbformat_minor": 4
}
