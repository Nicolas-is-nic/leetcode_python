{
 "cells": [
  {
   "cell_type": "markdown",
   "metadata": {},
   "source": [
    "给定一个由整数组成的非空数组所表示的非负整数，在该数的基础上加一。\n",
    "\n",
    "最高位数字存放在数组的首位， 数组中每个元素只存储单个数字。\n",
    "\n",
    "你可以假设除了整数 `0` 之外，这个整数不会以零开头。\n",
    "\n",
    "示例 1:\n",
    "\n",
    "> 输入: [1,2,3]\n",
    ">\n",
    "> 输出: [1,2,4]\n",
    ">\n",
    ">解释: 输入数组表示数字 123。"
   ]
  },
  {
   "cell_type": "code",
   "execution_count": null,
   "metadata": {},
   "outputs": [],
   "source": [
    "from typing import List\n",
    "\n",
    "class Solution:\n",
    "    def plusOne(self, digits: List[int]) -> List[int]:\n",
    "        length = len(digits)\n",
    "        num = 0\n",
    "        for i in range(length):\n",
    "            num += digits[i]*10**(length-i-1)\n",
    "        num += 1\n",
    "        \n",
    "        res = []\n",
    "        while True:\n",
    "            mod_num = num % 10\n",
    "            num = num //10\n",
    "            res.insert(0, mod_num)\n",
    "            if num == 0:\n",
    "                return res         "
   ]
  },
  {
   "cell_type": "code",
   "execution_count": 2,
   "metadata": {},
   "outputs": [],
   "source": [
    "digits = [1, 2, 3]"
   ]
  },
  {
   "cell_type": "code",
   "execution_count": 3,
   "metadata": {},
   "outputs": [
    {
     "data": {
      "text/plain": [
       "[1, 2, 4]"
      ]
     },
     "execution_count": 3,
     "metadata": {},
     "output_type": "execute_result"
    }
   ],
   "source": [
    "a = Solution()\n",
    "a.plusOne(digits)"
   ]
  },
  {
   "cell_type": "code",
   "execution_count": 4,
   "metadata": {},
   "outputs": [],
   "source": [
    "from typing import List\n",
    "\n",
    "class Solution:\n",
    "    def plusOne(self, digits: List[int]) -> List[int]:\n",
    "        i = len(digits)-1\n",
    "        while digits[i] == 9:\n",
    "            i -= 1\n",
    "            if i < 0:\n",
    "                # 说明数组里全是9\n",
    "                temp = [0]*len(digits)\n",
    "                temp.insert(0,1)\n",
    "                return temp\n",
    "                \n",
    "                \n",
    "        digits[i] += 1\n",
    "        for j in range(i+1, len(digits)):\n",
    "            digits[j] = 0\n",
    "        return digits"
   ]
  },
  {
   "cell_type": "code",
   "execution_count": 5,
   "metadata": {},
   "outputs": [],
   "source": [
    "digits = [9, 9]"
   ]
  },
  {
   "cell_type": "code",
   "execution_count": 6,
   "metadata": {},
   "outputs": [
    {
     "data": {
      "text/plain": [
       "[1, 0, 0]"
      ]
     },
     "execution_count": 6,
     "metadata": {},
     "output_type": "execute_result"
    }
   ],
   "source": [
    "b = Solution()\n",
    "b.plusOne(digits)"
   ]
  }
 ],
 "metadata": {
  "kernelspec": {
   "display_name": "py3_env",
   "language": "python",
   "name": "py3_env"
  },
  "language_info": {
   "codemirror_mode": {
    "name": "ipython",
    "version": 3
   },
   "file_extension": ".py",
   "mimetype": "text/x-python",
   "name": "python",
   "nbconvert_exporter": "python",
   "pygments_lexer": "ipython3",
   "version": "3.7.4"
  }
 },
 "nbformat": 4,
 "nbformat_minor": 4
}
