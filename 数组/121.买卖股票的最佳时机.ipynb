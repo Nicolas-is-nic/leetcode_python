{
 "cells": [
  {
   "cell_type": "markdown",
   "metadata": {},
   "source": [
    "给定一个数组，它的第 `i` 个元素是一支给定股票第 `i` 天的价格。\n",
    "\n",
    "如果你最多只允许完成一笔交易（即买入和卖出一支股票一次），设计一个算法来计算你所能获取的最大利润。\n",
    "\n",
    "注意：你不能在买入股票前卖出股票。\n",
    "\n",
    " \n",
    "\n",
    "示例 1:\n",
    "\n",
    "> 输入: [7,1,5,3,6,4]\n",
    ">\n",
    "> 输出: 5\n",
    ">\n",
    "> 解释: 在第 2 天（股票价格 = 1）的时候买入，在第 5 天（股票价格 = 6）的时候卖出，最大利润 = 6-1 = 5 。\n",
    "> 注意利润不能是 7-1 = 6, 因为卖出价格需要大于买入价格；同时，你不能在买入前卖出股票。\n",
    "\n",
    "示例 2:\n",
    "\n",
    "> 输入: [7,6,4,3,1]\n",
    ">\n",
    ">输出: 0\n",
    ">\n",
    "> 解释: 在这种情况下, 没有交易完成, 所以最大利润为 0。"
   ]
  },
  {
   "cell_type": "code",
   "execution_count": 1,
   "metadata": {},
   "outputs": [],
   "source": [
    "# from typing import List\n",
    "\n",
    "# class Solution:\n",
    "#     def maxProfit(self, prices: List[int]) -> int:\n",
    "#         # 暴力求解，不可取\n",
    "#         length = len(prices)\n",
    "#         res = 0\n",
    "#         for i in range(1, length):\n",
    "#             l = min(prices[:i])\n",
    "#             r = max(prices[i:])\n",
    "#             res = max(res, r-l)\n",
    "#         return res"
   ]
  },
  {
   "cell_type": "code",
   "execution_count": 2,
   "metadata": {},
   "outputs": [],
   "source": [
    "from typing import List\n",
    "\n",
    "class Solution:\n",
    "    def maxProfit(self, prices: List[int]) -> int:\n",
    "        length = len(prices)\n",
    "        if length < 2:\n",
    "            return 0\n",
    "        if length == 2:\n",
    "            return max(0, prices[1]-prices[0])\n",
    "        \n",
    "        res = 0\n",
    "        l_min = prices[0]\n",
    "        for i in range(length-1):\n",
    "            l_min = min(l_min, prices[i])\n",
    "            res = max(res, prices[i+1]-l_min)\n",
    "        \n",
    "        return res"
   ]
  },
  {
   "cell_type": "code",
   "execution_count": 3,
   "metadata": {},
   "outputs": [
    {
     "data": {
      "text/plain": [
       "5"
      ]
     },
     "execution_count": 3,
     "metadata": {},
     "output_type": "execute_result"
    }
   ],
   "source": [
    "obj = Solution()\n",
    "obj.maxProfit([7,1,5,3,6,4])"
   ]
  },
  {
   "cell_type": "code",
   "execution_count": null,
   "metadata": {},
   "outputs": [],
   "source": []
  }
 ],
 "metadata": {
  "kernelspec": {
   "display_name": "personal",
   "language": "python",
   "name": "personal"
  },
  "language_info": {
   "codemirror_mode": {
    "name": "ipython",
    "version": 3
   },
   "file_extension": ".py",
   "mimetype": "text/x-python",
   "name": "python",
   "nbconvert_exporter": "python",
   "pygments_lexer": "ipython3",
   "version": "3.6.12"
  }
 },
 "nbformat": 4,
 "nbformat_minor": 4
}
