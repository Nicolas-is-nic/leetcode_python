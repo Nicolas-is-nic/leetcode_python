{
 "cells": [
  {
   "cell_type": "markdown",
   "metadata": {},
   "source": [
    "给定一个排序数组和一个目标值，在数组中找到目标值，并返回其索引。如果目标值不存在于数组中，返回它将会被按顺序插入的位置。\n",
    "\n",
    "你可以假设数组中无重复元素。\n",
    "\n",
    "示例 1:\n",
    "\n",
    "> 输入: [1,3,5,6], 5\n",
    "> \n",
    "> 输出: 2\n",
    "\n",
    "示例 2:\n",
    "\n",
    "> 输入: [1,3,5,6], 2\n",
    "> \n",
    "> 输出: 1"
   ]
  },
  {
   "cell_type": "markdown",
   "metadata": {},
   "source": [
    "**(注：这道题没有说清楚，题中的排序数组单指从小到大升序，不包括降序)**"
   ]
  },
  {
   "cell_type": "code",
   "execution_count": 1,
   "metadata": {},
   "outputs": [],
   "source": [
    "from typing import List\n",
    "\n",
    "class Solution:\n",
    "    def searchInsert(self, nums: List[int], target: int) -> int:\n",
    "            if not nums:\n",
    "                return 0\n",
    "            lp = 0\n",
    "            rp = len(nums)-1\n",
    "            while rp != lp:\n",
    "                c = (rp+lp)//2\n",
    "                if nums[c] == target:\n",
    "                    return c\n",
    "                else:\n",
    "                    if nums[c] > target:\n",
    "                        rp = c\n",
    "                    else:\n",
    "                        lp = c+1\n",
    "            if nums[lp] == target:\n",
    "                return lp\n",
    "            elif nums[lp] > target:\n",
    "                return lp\n",
    "            else:\n",
    "                return lp+1"
   ]
  },
  {
   "cell_type": "code",
   "execution_count": 2,
   "metadata": {},
   "outputs": [],
   "source": [
    "nums = [1,3,5,6]\n",
    "target = 4"
   ]
  },
  {
   "cell_type": "code",
   "execution_count": 3,
   "metadata": {},
   "outputs": [
    {
     "data": {
      "text/plain": [
       "2"
      ]
     },
     "execution_count": 3,
     "metadata": {},
     "output_type": "execute_result"
    }
   ],
   "source": [
    "a = Solution()\n",
    "a.searchInsert(nums, target)"
   ]
  }
 ],
 "metadata": {
  "kernelspec": {
   "display_name": "py3_env",
   "language": "python",
   "name": "py3_env"
  },
  "language_info": {
   "codemirror_mode": {
    "name": "ipython",
    "version": 3
   },
   "file_extension": ".py",
   "mimetype": "text/x-python",
   "name": "python",
   "nbconvert_exporter": "python",
   "pygments_lexer": "ipython3",
   "version": "3.7.4"
  }
 },
 "nbformat": 4,
 "nbformat_minor": 4
}
