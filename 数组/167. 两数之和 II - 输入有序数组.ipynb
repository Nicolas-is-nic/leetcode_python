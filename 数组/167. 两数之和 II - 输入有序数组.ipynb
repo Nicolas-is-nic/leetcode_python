{
 "cells": [
  {
   "cell_type": "markdown",
   "metadata": {},
   "source": [
    "给定一个已按照 升序排列  的整数数组 numbers ，请你从数组中找出两个数满足相加之和等于目标数 target 。\n",
    "\n",
    "函数应该以长度为 2 的整数数组的形式返回这两个数的下标值。numbers 的下标 从 1 开始计数 ，所以答案数组应当满足 1 <= answer[0] < answer[1] <= numbers.length 。\n",
    "\n",
    "你可以假设每个输入只对应唯一的答案，而且你不可以重复使用相同的元素。\n",
    "\n",
    " \n",
    "示例 1：\n",
    "\n",
    "> 输入：numbers = [2,7,11,15], target = 9\n",
    "> \n",
    "> 输出：[1,2]\n",
    "> \n",
    "> 解释：2 与 7 之和等于目标数 9 。因此 index1 = 1, index2 = 2 。\n",
    "> \n",
    "\n",
    "示例 2：\n",
    "\n",
    "> 输入：numbers = [2,3,4], target = 6\n",
    "> \n",
    "> 输出：[1,3]\n",
    "> \n",
    "\n",
    "示例 3：\n",
    "\n",
    "> 输入：numbers = [-1,0], target = -1\n",
    "> \n",
    "> 输出：[1,2]\n",
    " \n",
    "\n",
    "提示：\n",
    "\n",
    "- 2 <= numbers.length <= 3 * 104\n",
    "- -1000 <= numbers[i] <= 1000\n",
    "- numbers 按 递增顺序 排列\n",
    "- -1000 <= target <= 1000\n",
    "- 仅存在一个有效答案"
   ]
  },
  {
   "cell_type": "code",
   "execution_count": 3,
   "metadata": {},
   "outputs": [],
   "source": [
    "from typing import List\n",
    "\n",
    "class Solution:\n",
    "    def twoSum(self, numbers: List[int], target: int) -> List[int]:\n",
    "        hash_dict = {}\n",
    "        for ind, n in enumerate(numbers):\n",
    "            if n in hash_dict:\n",
    "                return [hash_dict[n], ind+1]\n",
    "            else:\n",
    "                hash_dict[target-n] = ind+1"
   ]
  },
  {
   "cell_type": "code",
   "execution_count": 5,
   "metadata": {},
   "outputs": [],
   "source": [
    "numbers = [2, 3, 4]\n",
    "target = 6"
   ]
  },
  {
   "cell_type": "code",
   "execution_count": 6,
   "metadata": {},
   "outputs": [
    {
     "data": {
      "text/plain": [
       "[1, 3]"
      ]
     },
     "execution_count": 6,
     "metadata": {},
     "output_type": "execute_result"
    }
   ],
   "source": [
    "obj = Solution()\n",
    "obj.twoSum(numbers, target)"
   ]
  },
  {
   "cell_type": "code",
   "execution_count": null,
   "metadata": {},
   "outputs": [],
   "source": []
  }
 ],
 "metadata": {
  "kernelspec": {
   "display_name": "personal",
   "language": "python",
   "name": "personal"
  },
  "language_info": {
   "codemirror_mode": {
    "name": "ipython",
    "version": 3
   },
   "file_extension": ".py",
   "mimetype": "text/x-python",
   "name": "python",
   "nbconvert_exporter": "python",
   "pygments_lexer": "ipython3",
   "version": "3.6.12"
  }
 },
 "nbformat": 4,
 "nbformat_minor": 4
}
