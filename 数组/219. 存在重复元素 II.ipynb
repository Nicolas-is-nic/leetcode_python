{
 "cells": [
  {
   "cell_type": "markdown",
   "metadata": {},
   "source": [
    "给定一个整数数组和一个整数 k，判断数组中是否存在两个不同的索引 i 和 j，使得 nums [i] = nums [j]，并且 i 和 j 的差的 绝对值 至多为 k。\n",
    "\n",
    " \n",
    "\n",
    "示例 1:\n",
    "\n",
    "> 输入: nums = [1,2,3,1], k = 3\n",
    "> \n",
    "> 输出: true\n",
    "\n",
    "示例 2:\n",
    "\n",
    "> 输入: nums = [1,0,1,1], k = 1\n",
    "> \n",
    "> 输出: true\n",
    "\n",
    "示例 3:\n",
    "\n",
    "> 输入: nums = [1,2,3,1,2,3], k = 2\n",
    "> \n",
    "> 输出: false"
   ]
  },
  {
   "cell_type": "code",
   "execution_count": 1,
   "metadata": {},
   "outputs": [],
   "source": [
    "from typing import List\n",
    "\n",
    "class Solution:\n",
    "    def containsNearbyDuplicate(self, nums: List[int], k: int) -> bool:\n",
    "        d = dict()\n",
    "        for ind, n in enumerate(nums):\n",
    "            if n in d:\n",
    "                if ind - d[n] <= k:\n",
    "                    return True\n",
    "                else:\n",
    "                    d[n] = ind\n",
    "            else:\n",
    "                d[n] = ind\n",
    "        return False"
   ]
  },
  {
   "cell_type": "code",
   "execution_count": 2,
   "metadata": {},
   "outputs": [],
   "source": [
    "nums = [1,2,3,1,2,3]\n",
    "k = 2"
   ]
  },
  {
   "cell_type": "code",
   "execution_count": 4,
   "metadata": {},
   "outputs": [
    {
     "data": {
      "text/plain": [
       "False"
      ]
     },
     "execution_count": 4,
     "metadata": {},
     "output_type": "execute_result"
    }
   ],
   "source": [
    "obj = Solution()\n",
    "obj.containsNearbyDuplicate(nums, k)"
   ]
  },
  {
   "cell_type": "code",
   "execution_count": null,
   "metadata": {},
   "outputs": [],
   "source": []
  }
 ],
 "metadata": {
  "kernelspec": {
   "display_name": "personal",
   "language": "python",
   "name": "personal"
  },
  "language_info": {
   "codemirror_mode": {
    "name": "ipython",
    "version": 3
   },
   "file_extension": ".py",
   "mimetype": "text/x-python",
   "name": "python",
   "nbconvert_exporter": "python",
   "pygments_lexer": "ipython3",
   "version": "3.6.12"
  }
 },
 "nbformat": 4,
 "nbformat_minor": 4
}
