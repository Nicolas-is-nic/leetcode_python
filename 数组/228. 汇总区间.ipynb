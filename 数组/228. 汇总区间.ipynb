{
 "cells": [
  {
   "cell_type": "markdown",
   "metadata": {},
   "source": [
    "给定一个无重复元素的有序整数数组 nums 。\n",
    "\n",
    "返回 恰好覆盖数组中所有数字 的 最小有序 区间范围列表。也就是说，nums 的每个元素都恰好被某个区间范围所覆盖，并且不存在属于某个范围但不属于 nums 的数字 x 。\n",
    "\n",
    "列表中的每个区间范围 [a,b] 应该按如下格式输出：\n",
    "\n",
    "- \"a->b\" ，如果 a != b\n",
    "- \"a\" ，如果 a == b\n",
    " \n",
    "\n",
    "示例 1：\n",
    "\n",
    "> 输入：nums = [0,1,2,4,5,7]\n",
    "> \n",
    "> 输出：[\"0->2\",\"4->5\",\"7\"]\n",
    "> \n",
    "> 解释：区间范围是：\n",
    "> \n",
    "> [0,2] --> \"0->2\"\n",
    "> \n",
    "> [4,5] --> \"4->5\"\n",
    "> \n",
    "> [7,7] --> \"7\"\n",
    "\n",
    "示例 2：\n",
    "\n",
    "> 输入：nums = [0,2,3,4,6,8,9]\n",
    "> \n",
    "> 输出：[\"0\",\"2->4\",\"6\",\"8->9\"]\n",
    "> \n",
    "> 解释：区间范围是：\n",
    "> \n",
    "> [0,0] --> \"0\"\n",
    "> \n",
    "> [2,4] --> \"2->4\"\n",
    "> \n",
    "> [6,6] --> \"6\"\n",
    "> \n",
    "> [8,9] --> \"8->9\"\n",
    "\n",
    "示例 3：\n",
    "\n",
    "> 输入：nums = []\n",
    "> \n",
    "> 输出：[]\n",
    "\n",
    "示例 4：\n",
    "\n",
    "> 输入：nums = [-1]\n",
    "> \n",
    "> 输出：[\"-1\"]\n",
    "\n",
    "示例 5：\n",
    "\n",
    "> 输入：nums = [0]\n",
    "> \n",
    "> 输出：[\"0\"]\n",
    " \n",
    "\n",
    "提示：\n",
    "\n",
    "- 0 <= nums.length <= 20\n",
    "- -231 <= nums[i] <= 231 - 1\n",
    "- nums 中的所有值都 互不相同\n",
    "- nums 按升序排列\n"
   ]
  },
  {
   "cell_type": "code",
   "execution_count": 16,
   "metadata": {},
   "outputs": [],
   "source": [
    "from typing import List\n",
    "\n",
    "class Solution:\n",
    "    def summaryRanges(self, nums: List[int]) -> List[str]:\n",
    "        length = len(nums)\n",
    "        if length == 1:\n",
    "            return [f'{nums[0]}']\n",
    "\n",
    "        res = []\n",
    "        l, r = 0, 0\n",
    "        while l < length-1 and r < length-1:\n",
    "            if nums[r+1] - 1 == nums[r]:\n",
    "                r += 1\n",
    "            else:\n",
    "                if r == l:\n",
    "                    res.append(f'{nums[l]}')\n",
    "\n",
    "                else:\n",
    "                    res.append(f'{nums[l]}->{nums[r]}')\n",
    "                l, r = r+1, r+1\n",
    "        if length - l == 1:\n",
    "            res.append(f'{nums[l]}')\n",
    "        elif length - l > 1:\n",
    "            res.append(f'{nums[l]}->{nums[-1]}')\n",
    "        else:\n",
    "            pass\n",
    "        return res"
   ]
  },
  {
   "cell_type": "code",
   "execution_count": 17,
   "metadata": {},
   "outputs": [],
   "source": [
    "nums = [0,2,3,4,6,8,9]"
   ]
  },
  {
   "cell_type": "code",
   "execution_count": 18,
   "metadata": {},
   "outputs": [
    {
     "data": {
      "text/plain": [
       "['0', '2->4', '6', '8->9']"
      ]
     },
     "execution_count": 18,
     "metadata": {},
     "output_type": "execute_result"
    }
   ],
   "source": [
    "obj = Solution()\n",
    "obj.summaryRanges(nums)"
   ]
  },
  {
   "cell_type": "code",
   "execution_count": null,
   "metadata": {},
   "outputs": [],
   "source": []
  }
 ],
 "metadata": {
  "kernelspec": {
   "display_name": "personal",
   "language": "python",
   "name": "personal"
  },
  "language_info": {
   "codemirror_mode": {
    "name": "ipython",
    "version": 3
   },
   "file_extension": ".py",
   "mimetype": "text/x-python",
   "name": "python",
   "nbconvert_exporter": "python",
   "pygments_lexer": "ipython3",
   "version": "3.6.12"
  }
 },
 "nbformat": 4,
 "nbformat_minor": 4
}
